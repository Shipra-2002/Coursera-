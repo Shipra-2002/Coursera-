{
  "metadata": {
    "kernelspec": {
      "name": "python",
      "display_name": "Python (Pyodide)",
      "language": "python"
    },
    "language_info": {
      "codemirror_mode": {
        "name": "python",
        "version": 3
      },
      "file_extension": ".py",
      "mimetype": "text/x-python",
      "name": "python",
      "nbconvert_exporter": "python",
      "pygments_lexer": "ipython3",
      "version": "3.8"
    }
  },
  "nbformat_minor": 4,
  "nbformat": 4,
  "cells": [
    {
      "cell_type": "markdown",
      "source": "#Notebook title",
      "metadata": {}
    },
    {
      "cell_type": "markdown",
      "source": "Intro",
      "metadata": {}
    },
    {
      "cell_type": "markdown",
      "source": "List of data Science Languages:",
      "metadata": {}
    },
    {
      "cell_type": "markdown",
      "source": "List of data Science Libraries:",
      "metadata": {}
    },
    {
      "cell_type": "markdown",
      "source": "Table of data Science Tools:",
      "metadata": {}
    },
    {
      "cell_type": "markdown",
      "source": "Intro to Arithmetic Examples:",
      "metadata": {}
    },
    {
      "cell_type": "code",
      "source": "a =int(input(\"enter a value of a\"))\nb =int(input(\"enter a value of b\"))\nc=a+b\nd=a*b\nprint(\"addition of a and b is=\",c)",
      "metadata": {
        "trusted": true
      },
      "outputs": [],
      "execution_count": null
    },
    {
      "cell_type": "code",
      "source": "def hours_into_mins(hours):\n    return hours * 60\nr = hours_into_min(3)\nprint(r)",
      "metadata": {
        "trusted": true
      },
      "outputs": [],
      "execution_count": null
    },
    {
      "cell_type": "markdown",
      "source": "Objectives:",
      "metadata": {}
    },
    {
      "cell_type": "markdown",
      "source": "Shipra Selvan",
      "metadata": {}
    }
  ]
}